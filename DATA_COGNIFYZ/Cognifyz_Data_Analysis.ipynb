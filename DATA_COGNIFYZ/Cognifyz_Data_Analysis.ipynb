{
 "cells": [
  {
   "cell_type": "code",
   "execution_count": 655,
   "id": "5193ef98-9b45-430e-8cc0-05ce94ced5e9",
   "metadata": {},
   "outputs": [],
   "source": [
    "import numpy as np     #imports the numpy library\n",
    "import pandas as pd     #imports the pandas library\n",
    "import matplotlib.pyplot as plt     #imports the matplotlib library"
   ]
  },
  {
   "cell_type": "code",
   "execution_count": 656,
   "id": "3fa830ed-55ba-4f4b-b0fc-f7efc3c68bb3",
   "metadata": {},
   "outputs": [],
   "source": [
    "file_path = r\"C:\\Users\\DELL\\Downloads\\Dataset_Cognifyz.csv\" \n",
    "#This stores the file path to the dataset given as a variable"
   ]
  },
  {
   "cell_type": "code",
   "execution_count": 657,
   "id": "45879117-e2d1-499a-8627-58f681d7e19b",
   "metadata": {
    "scrolled": true
   },
   "outputs": [
    {
     "data": {
      "text/html": [
       "<div>\n",
       "<style scoped>\n",
       "    .dataframe tbody tr th:only-of-type {\n",
       "        vertical-align: middle;\n",
       "    }\n",
       "\n",
       "    .dataframe tbody tr th {\n",
       "        vertical-align: top;\n",
       "    }\n",
       "\n",
       "    .dataframe thead th {\n",
       "        text-align: right;\n",
       "    }\n",
       "</style>\n",
       "<table border=\"1\" class=\"dataframe\">\n",
       "  <thead>\n",
       "    <tr style=\"text-align: right;\">\n",
       "      <th></th>\n",
       "      <th>Restaurant_ID</th>\n",
       "      <th>Restaurant_Name</th>\n",
       "      <th>Country Code</th>\n",
       "      <th>City</th>\n",
       "      <th>Address</th>\n",
       "      <th>Locality</th>\n",
       "      <th>Locality_Verbose</th>\n",
       "      <th>Longitude</th>\n",
       "      <th>Latitude</th>\n",
       "      <th>Cuisines</th>\n",
       "      <th>...</th>\n",
       "      <th>Currency</th>\n",
       "      <th>Has_Table_booking</th>\n",
       "      <th>Has_Online_delivery</th>\n",
       "      <th>Is_delivering_now</th>\n",
       "      <th>Switch_to_order_menu</th>\n",
       "      <th>Price_range</th>\n",
       "      <th>Aggregate_rating</th>\n",
       "      <th>Rating_color</th>\n",
       "      <th>Rating_text</th>\n",
       "      <th>Votes</th>\n",
       "    </tr>\n",
       "  </thead>\n",
       "  <tbody>\n",
       "    <tr>\n",
       "      <th>0</th>\n",
       "      <td>6317637</td>\n",
       "      <td>Le Petit Souffle</td>\n",
       "      <td>162</td>\n",
       "      <td>Makati City</td>\n",
       "      <td>Third Floor, Century City Mall, Kalayaan Avenu...</td>\n",
       "      <td>Century City Mall, Poblacion, Makati City</td>\n",
       "      <td>Century City Mall, Poblacion, Makati City, Mak...</td>\n",
       "      <td>121.027535</td>\n",
       "      <td>14.565443</td>\n",
       "      <td>French, Japanese, Desserts</td>\n",
       "      <td>...</td>\n",
       "      <td>Botswana Pula(P)</td>\n",
       "      <td>Yes</td>\n",
       "      <td>No</td>\n",
       "      <td>No</td>\n",
       "      <td>No</td>\n",
       "      <td>3</td>\n",
       "      <td>4.8</td>\n",
       "      <td>Dark Green</td>\n",
       "      <td>Excellent</td>\n",
       "      <td>314</td>\n",
       "    </tr>\n",
       "    <tr>\n",
       "      <th>1</th>\n",
       "      <td>6304287</td>\n",
       "      <td>Izakaya Kikufuji</td>\n",
       "      <td>162</td>\n",
       "      <td>Makati City</td>\n",
       "      <td>Little Tokyo, 2277 Chino Roces Avenue, Legaspi...</td>\n",
       "      <td>Little Tokyo, Legaspi Village, Makati City</td>\n",
       "      <td>Little Tokyo, Legaspi Village, Makati City, Ma...</td>\n",
       "      <td>121.014101</td>\n",
       "      <td>14.553708</td>\n",
       "      <td>Japanese</td>\n",
       "      <td>...</td>\n",
       "      <td>Botswana Pula(P)</td>\n",
       "      <td>Yes</td>\n",
       "      <td>No</td>\n",
       "      <td>No</td>\n",
       "      <td>No</td>\n",
       "      <td>3</td>\n",
       "      <td>4.5</td>\n",
       "      <td>Dark Green</td>\n",
       "      <td>Excellent</td>\n",
       "      <td>591</td>\n",
       "    </tr>\n",
       "    <tr>\n",
       "      <th>2</th>\n",
       "      <td>6300002</td>\n",
       "      <td>Heat - Edsa Shangri-La</td>\n",
       "      <td>162</td>\n",
       "      <td>Mandaluyong City</td>\n",
       "      <td>Edsa Shangri-La, 1 Garden Way, Ortigas, Mandal...</td>\n",
       "      <td>Edsa Shangri-La, Ortigas, Mandaluyong City</td>\n",
       "      <td>Edsa Shangri-La, Ortigas, Mandaluyong City, Ma...</td>\n",
       "      <td>121.056831</td>\n",
       "      <td>14.581404</td>\n",
       "      <td>Seafood, Asian, Filipino, Indian</td>\n",
       "      <td>...</td>\n",
       "      <td>Botswana Pula(P)</td>\n",
       "      <td>Yes</td>\n",
       "      <td>No</td>\n",
       "      <td>No</td>\n",
       "      <td>No</td>\n",
       "      <td>4</td>\n",
       "      <td>4.4</td>\n",
       "      <td>Green</td>\n",
       "      <td>Very Good</td>\n",
       "      <td>270</td>\n",
       "    </tr>\n",
       "    <tr>\n",
       "      <th>3</th>\n",
       "      <td>6318506</td>\n",
       "      <td>Ooma</td>\n",
       "      <td>162</td>\n",
       "      <td>Mandaluyong City</td>\n",
       "      <td>Third Floor, Mega Fashion Hall, SM Megamall, O...</td>\n",
       "      <td>SM Megamall, Ortigas, Mandaluyong City</td>\n",
       "      <td>SM Megamall, Ortigas, Mandaluyong City, Mandal...</td>\n",
       "      <td>121.056475</td>\n",
       "      <td>14.585318</td>\n",
       "      <td>Japanese, Sushi</td>\n",
       "      <td>...</td>\n",
       "      <td>Botswana Pula(P)</td>\n",
       "      <td>No</td>\n",
       "      <td>No</td>\n",
       "      <td>No</td>\n",
       "      <td>No</td>\n",
       "      <td>4</td>\n",
       "      <td>4.9</td>\n",
       "      <td>Dark Green</td>\n",
       "      <td>Excellent</td>\n",
       "      <td>365</td>\n",
       "    </tr>\n",
       "    <tr>\n",
       "      <th>4</th>\n",
       "      <td>6314302</td>\n",
       "      <td>Sambo Kojin</td>\n",
       "      <td>162</td>\n",
       "      <td>Mandaluyong City</td>\n",
       "      <td>Third Floor, Mega Atrium, SM Megamall, Ortigas...</td>\n",
       "      <td>SM Megamall, Ortigas, Mandaluyong City</td>\n",
       "      <td>SM Megamall, Ortigas, Mandaluyong City, Mandal...</td>\n",
       "      <td>121.057508</td>\n",
       "      <td>14.584450</td>\n",
       "      <td>Japanese, Korean</td>\n",
       "      <td>...</td>\n",
       "      <td>Botswana Pula(P)</td>\n",
       "      <td>Yes</td>\n",
       "      <td>No</td>\n",
       "      <td>No</td>\n",
       "      <td>No</td>\n",
       "      <td>4</td>\n",
       "      <td>4.8</td>\n",
       "      <td>Dark Green</td>\n",
       "      <td>Excellent</td>\n",
       "      <td>229</td>\n",
       "    </tr>\n",
       "  </tbody>\n",
       "</table>\n",
       "<p>5 rows × 21 columns</p>\n",
       "</div>"
      ],
      "text/plain": [
       "   Restaurant_ID         Restaurant_Name  Country Code              City  \\\n",
       "0        6317637        Le Petit Souffle           162       Makati City   \n",
       "1        6304287        Izakaya Kikufuji           162       Makati City   \n",
       "2        6300002  Heat - Edsa Shangri-La           162  Mandaluyong City   \n",
       "3        6318506                    Ooma           162  Mandaluyong City   \n",
       "4        6314302             Sambo Kojin           162  Mandaluyong City   \n",
       "\n",
       "                                             Address  \\\n",
       "0  Third Floor, Century City Mall, Kalayaan Avenu...   \n",
       "1  Little Tokyo, 2277 Chino Roces Avenue, Legaspi...   \n",
       "2  Edsa Shangri-La, 1 Garden Way, Ortigas, Mandal...   \n",
       "3  Third Floor, Mega Fashion Hall, SM Megamall, O...   \n",
       "4  Third Floor, Mega Atrium, SM Megamall, Ortigas...   \n",
       "\n",
       "                                     Locality  \\\n",
       "0   Century City Mall, Poblacion, Makati City   \n",
       "1  Little Tokyo, Legaspi Village, Makati City   \n",
       "2  Edsa Shangri-La, Ortigas, Mandaluyong City   \n",
       "3      SM Megamall, Ortigas, Mandaluyong City   \n",
       "4      SM Megamall, Ortigas, Mandaluyong City   \n",
       "\n",
       "                                    Locality_Verbose   Longitude   Latitude  \\\n",
       "0  Century City Mall, Poblacion, Makati City, Mak...  121.027535  14.565443   \n",
       "1  Little Tokyo, Legaspi Village, Makati City, Ma...  121.014101  14.553708   \n",
       "2  Edsa Shangri-La, Ortigas, Mandaluyong City, Ma...  121.056831  14.581404   \n",
       "3  SM Megamall, Ortigas, Mandaluyong City, Mandal...  121.056475  14.585318   \n",
       "4  SM Megamall, Ortigas, Mandaluyong City, Mandal...  121.057508  14.584450   \n",
       "\n",
       "                           Cuisines  ...          Currency Has_Table_booking  \\\n",
       "0        French, Japanese, Desserts  ...  Botswana Pula(P)               Yes   \n",
       "1                          Japanese  ...  Botswana Pula(P)               Yes   \n",
       "2  Seafood, Asian, Filipino, Indian  ...  Botswana Pula(P)               Yes   \n",
       "3                   Japanese, Sushi  ...  Botswana Pula(P)                No   \n",
       "4                  Japanese, Korean  ...  Botswana Pula(P)               Yes   \n",
       "\n",
       "  Has_Online_delivery Is_delivering_now Switch_to_order_menu Price_range  \\\n",
       "0                  No                No                   No           3   \n",
       "1                  No                No                   No           3   \n",
       "2                  No                No                   No           4   \n",
       "3                  No                No                   No           4   \n",
       "4                  No                No                   No           4   \n",
       "\n",
       "   Aggregate_rating  Rating_color Rating_text Votes  \n",
       "0               4.8    Dark Green   Excellent   314  \n",
       "1               4.5    Dark Green   Excellent   591  \n",
       "2               4.4         Green   Very Good   270  \n",
       "3               4.9    Dark Green   Excellent   365  \n",
       "4               4.8    Dark Green   Excellent   229  \n",
       "\n",
       "[5 rows x 21 columns]"
      ]
     },
     "execution_count": 657,
     "metadata": {},
     "output_type": "execute_result"
    }
   ],
   "source": [
    "data = pd.read_csv(file_path) \n",
    "#This imports and reads the dataset given and stores it in a variable \n",
    "\n",
    "data.head()\n",
    "#This outputs the first five rows of the dataset"
   ]
  },
  {
   "cell_type": "code",
   "execution_count": 659,
   "id": "02ea96f3-87c9-4db1-9927-8c41808060d6",
   "metadata": {},
   "outputs": [
    {
     "data": {
      "text/plain": [
       "(9551, 21)"
      ]
     },
     "execution_count": 659,
     "metadata": {},
     "output_type": "execute_result"
    }
   ],
   "source": [
    "data.shape"
   ]
  },
  {
   "cell_type": "markdown",
   "id": "55e62fa4-d6a4-460f-839c-935689f8eb57",
   "metadata": {},
   "source": [
    "### INSIGHT\n",
    "There are 9551 rows in this dataset and 21 columns. In these 21 columns, the column 'Cuisines' has 9542 non-null which means there are 9 null values. We take note of this during our analysis."
   ]
  },
  {
   "cell_type": "markdown",
   "id": "b61e8eeb-3d02-438c-b3e7-d6f80f9df065",
   "metadata": {},
   "source": [
    "### DATA CLEANING FOR COLUMNS"
   ]
  },
  {
   "cell_type": "code",
   "execution_count": 662,
   "id": "14785b23-a1d1-4143-9224-797f5556e7a8",
   "metadata": {},
   "outputs": [
    {
     "data": {
      "text/plain": [
       "object     13\n",
       "int64       5\n",
       "float64     3\n",
       "Name: count, dtype: int64"
      ]
     },
     "execution_count": 662,
     "metadata": {},
     "output_type": "execute_result"
    }
   ],
   "source": [
    "data.dtypes.value_counts()"
   ]
  },
  {
   "cell_type": "markdown",
   "id": "1a7cc301-2bf9-4f90-ac7e-24160ff7e5c4",
   "metadata": {},
   "source": [
    "This means there are 13 columns with objects, 5 columns as integers and 3 columns as floats."
   ]
  },
  {
   "cell_type": "code",
   "execution_count": 664,
   "id": "bb6135be-93b7-4610-a7a0-a83a8ab374cc",
   "metadata": {},
   "outputs": [
    {
     "data": {
      "text/plain": [
       "count    9551.000000\n",
       "mean        1.804837\n",
       "std         0.905609\n",
       "min         1.000000\n",
       "25%         1.000000\n",
       "50%         2.000000\n",
       "75%         2.000000\n",
       "max         4.000000\n",
       "Name: Price_range, dtype: float64"
      ]
     },
     "execution_count": 664,
     "metadata": {},
     "output_type": "execute_result"
    }
   ],
   "source": [
    "data['Price_range'].describe()\n",
    "# Information about the Price_range column"
   ]
  },
  {
   "cell_type": "code",
   "execution_count": 665,
   "id": "b8ecf3b9-a1f0-4e9f-af96-1f884d5ac1e0",
   "metadata": {},
   "outputs": [
    {
     "data": {
      "text/plain": [
       "count     9551.000000\n",
       "mean       156.909748\n",
       "std        430.169145\n",
       "min          0.000000\n",
       "25%          5.000000\n",
       "50%         31.000000\n",
       "75%        131.000000\n",
       "max      10934.000000\n",
       "Name: Votes, dtype: float64"
      ]
     },
     "execution_count": 665,
     "metadata": {},
     "output_type": "execute_result"
    }
   ],
   "source": [
    "data['Votes'].describe()\n",
    "# Information about the Votes column"
   ]
  },
  {
   "cell_type": "code",
   "execution_count": 666,
   "id": "3e2bc3b3-d922-4529-8f1e-4a34222fdc54",
   "metadata": {},
   "outputs": [
    {
     "data": {
      "text/plain": [
       "count    9551.000000\n",
       "mean        2.666370\n",
       "std         1.516378\n",
       "min         0.000000\n",
       "25%         2.500000\n",
       "50%         3.200000\n",
       "75%         3.700000\n",
       "max         4.900000\n",
       "Name: Aggregate_rating, dtype: float64"
      ]
     },
     "execution_count": 666,
     "metadata": {},
     "output_type": "execute_result"
    }
   ],
   "source": [
    "data['Aggregate_rating'].describe()\n",
    "# Information about the Aggregate_rating column"
   ]
  },
  {
   "cell_type": "code",
   "execution_count": 667,
   "id": "00c7a0d8-a99e-4604-9faa-c7677ef2b184",
   "metadata": {},
   "outputs": [
    {
     "data": {
      "text/plain": [
       "array(['No', 'Yes'], dtype=object)"
      ]
     },
     "execution_count": 667,
     "metadata": {},
     "output_type": "execute_result"
    }
   ],
   "source": [
    "data['Has_Online_delivery'].unique()\n",
    "# This confirms that we have only 'Yes' and 'No' values in this column"
   ]
  },
  {
   "cell_type": "code",
   "execution_count": 668,
   "id": "20aa1f18-2bab-49f1-b433-3152fcd7cef4",
   "metadata": {},
   "outputs": [
    {
     "data": {
      "text/plain": [
       "array(['Yes', 'No'], dtype=object)"
      ]
     },
     "execution_count": 668,
     "metadata": {},
     "output_type": "execute_result"
    }
   ],
   "source": [
    "data['Has_Table_booking'].unique()\n",
    "# This confirms that we have only 'Yes' and 'No' values in this column"
   ]
  },
  {
   "cell_type": "code",
   "execution_count": 669,
   "id": "74f33416-ae02-4b25-b2ae-fd0c4ef92240",
   "metadata": {},
   "outputs": [
    {
     "data": {
      "text/plain": [
       "array(['No', 'Yes'], dtype=object)"
      ]
     },
     "execution_count": 669,
     "metadata": {},
     "output_type": "execute_result"
    }
   ],
   "source": [
    "data['Is_delivering_now'].unique()\n",
    "# This confirms that we have only 'Yes' and 'No' values in this column"
   ]
  },
  {
   "cell_type": "code",
   "execution_count": 670,
   "id": "be7b84a6-a9d1-4ae5-976d-1639679fa0be",
   "metadata": {},
   "outputs": [
    {
     "data": {
      "text/plain": [
       "array(['No'], dtype=object)"
      ]
     },
     "execution_count": 670,
     "metadata": {},
     "output_type": "execute_result"
    }
   ],
   "source": [
    "data['Switch_to_order_menu'].unique()"
   ]
  },
  {
   "cell_type": "markdown",
   "id": "4bcb2029-fed1-4f3a-97a1-afa31ada2e8d",
   "metadata": {},
   "source": [
    "The column 'Switch_to_order_menu' has only one value all through which is 'No'"
   ]
  },
  {
   "cell_type": "code",
   "execution_count": 672,
   "id": "e4e90dff-64a7-4d12-9134-2c7004535482",
   "metadata": {},
   "outputs": [
    {
     "data": {
      "text/plain": [
       "Rating_text\n",
       "Average      3737\n",
       "Not rated    2148\n",
       "Good         2100\n",
       "Very Good    1079\n",
       "Excellent     301\n",
       "Poor          186\n",
       "Name: count, dtype: int64"
      ]
     },
     "execution_count": 672,
     "metadata": {},
     "output_type": "execute_result"
    }
   ],
   "source": [
    "data['Rating_text'].value_counts()\n",
    "# This shows the different unique values they have and their frequency"
   ]
  },
  {
   "cell_type": "markdown",
   "id": "98e81963-12d6-4e38-af17-962fda89d0f2",
   "metadata": {},
   "source": [
    "# QUESTIONS\n"
   ]
  },
  {
   "cell_type": "markdown",
   "id": "9af11b38-b64d-4dda-806e-b5f60a774af0",
   "metadata": {},
   "source": [
    "## LEVEL 1\n"
   ]
  },
  {
   "cell_type": "markdown",
   "id": "0c31c49e-fe5c-4d55-a8ab-1503d50cdde2",
   "metadata": {},
   "source": [
    "### Task 1\n",
    "\n",
    "Determine the top three most common cuisines in the dataset.\n",
    "\n",
    "Calculate the percentage of restaurants that serve each of the top cuisines."
   ]
  },
  {
   "cell_type": "code",
   "execution_count": 676,
   "id": "25a05846-b563-4d5d-a003-cf2f36e70c85",
   "metadata": {
    "scrolled": true
   },
   "outputs": [
    {
     "data": {
      "text/plain": [
       "Cuisines\n",
       "North Indian      3960\n",
       "Chinese           2735\n",
       "Fast Food         1986\n",
       "Mughlai            995\n",
       "Italian            764\n",
       "                  ... \n",
       "Fish and Chips       1\n",
       "Malwani              1\n",
       "Cuisine Varies       1\n",
       "Soul Food            1\n",
       "B�_rek               1\n",
       "Name: count, Length: 145, dtype: int64"
      ]
     },
     "execution_count": 676,
     "metadata": {},
     "output_type": "execute_result"
    }
   ],
   "source": [
    "counts_cuisines = data['Cuisines'].str.split(', ').explode().value_counts()\n",
    "counts_cuisines\n",
    "# Stores as a variable a split and exploded cells of the Cuisine column"
   ]
  },
  {
   "cell_type": "code",
   "execution_count": 677,
   "id": "f25a5e06-c9c1-4dc9-94d4-d76ea3ff29aa",
   "metadata": {},
   "outputs": [
    {
     "data": {
      "text/plain": [
       "Cuisines\n",
       "North Indian    3960\n",
       "Chinese         2735\n",
       "Fast Food       1986\n",
       "Mughlai          995\n",
       "Italian          764\n",
       "Name: count, dtype: int64"
      ]
     },
     "execution_count": 677,
     "metadata": {},
     "output_type": "execute_result"
    }
   ],
   "source": [
    "counts_cuisines.head() # Outputs the first five rows\n",
    "counts_cuisines_plot = counts_cuisines.head()\n",
    "counts_cuisines_plot"
   ]
  },
  {
   "cell_type": "code",
   "execution_count": 678,
   "id": "306e381f-8c09-4d32-bb41-f8c64ac2ab60",
   "metadata": {},
   "outputs": [
    {
     "data": {
      "image/png": "[encoded data removed]",
      "text/plain": [
       "<Figure size 500x400 with 1 Axes>"
      ]
     },
     "metadata": {},
     "output_type": "display_data"
    }
   ],
   "source": [
    "fig, ax = plt.subplots(figsize=(5,4)) # Defines the size of the plot\n",
    "plot = ax.bar(counts_cuisines_plot.index,counts_cuisines_plot.values,color='skyblue') # Details about the plot\n",
    "ax.bar_label(plot, labels=counts_cuisines_plot.values, padding=3, fontsize=10) # Writes the label of the value of each cuisine\n",
    "\n",
    "# Editing the chart\n",
    "plt.title('Top Most Common Cuisines', fontsize=14)\n",
    "plt.xlabel('Cuisines', fontsize=12)\n",
    "plt.ylabel('Number of Restaurants', fontsize=12)\n",
    "plt.yticks(range(0, 5001, 500))\n",
    "plt.tight_layout()\n",
    "plt.grid(axis='y', linestyle='--', alpha=0.7)\n",
    "plt.show()"
   ]
  },
  {
   "cell_type": "markdown",
   "id": "edcfcdc4-a508-4473-be83-4f12f67417f2",
   "metadata": {},
   "source": [
    "From the graph we observe that the three most common cuisines are **North Indian, Chinese** and **Fast Foods**"
   ]
  },
  {
   "cell_type": "code",
   "execution_count": 680,
   "id": "d273543a-7f3f-4512-9137-b0a440a2e9e4",
   "metadata": {},
   "outputs": [
    {
     "data": {
      "text/plain": [
       "Cuisines\n",
       "North Indian      41.461627\n",
       "Chinese           28.635745\n",
       "Fast Food         20.793634\n",
       "Mughlai           10.417757\n",
       "Italian            7.999162\n",
       "                    ...    \n",
       "Fish and Chips     0.010470\n",
       "Malwani            0.010470\n",
       "Cuisine Varies     0.010470\n",
       "Soul Food          0.010470\n",
       "B�_rek             0.010470\n",
       "Name: count, Length: 145, dtype: float64"
      ]
     },
     "execution_count": 680,
     "metadata": {},
     "output_type": "execute_result"
    }
   ],
   "source": [
    "percentage_restaurant_cuisines = counts_cuisines/ len(data) * 100 # Divides the value of each cuisine by the length of the entire dataset which is the equal to the total number of restaurants and multiplies by 100\n",
    "percentage_restaurant_cuisines"
   ]
  },
  {
   "cell_type": "code",
   "execution_count": 681,
   "id": "9b7b776c-3371-48dc-b358-f23f338dd113",
   "metadata": {},
   "outputs": [
    {
     "data": {
      "text/plain": [
       "Cuisines\n",
       "North Indian    41.0\n",
       "Chinese         29.0\n",
       "Fast Food       21.0\n",
       "Mughlai         10.0\n",
       "Italian          8.0\n",
       "Name: count, dtype: float64"
      ]
     },
     "execution_count": 681,
     "metadata": {},
     "output_type": "execute_result"
    }
   ],
   "source": [
    "percentage_restaurant_cuisines_plot = percentage_restaurant_cuisines.round().head() # Rounds the values to the nearest whole numbers and outputs the first five rows\n",
    "percentage_restaurant_cuisines_plot"
   ]
  },
  {
   "cell_type": "code",
   "execution_count": 682,
   "id": "27987369-1f7c-4abd-ae7e-9439bb6a762b",
   "metadata": {},
   "outputs": [
    {
     "data": {
      "image/png": "[encoded data removed]",
      "text/plain": [
       "<Figure size 600x300 with 1 Axes>"
      ]
     },
     "metadata": {},
     "output_type": "display_data"
    }
   ],
   "source": [
    "fig, ax = plt.subplots(figsize=(6,3)) # Defines the size of the plot\n",
    "plot_2 = ax.bar(percentage_restaurant_cuisines_plot.index, percentage_restaurant_cuisines_plot.values, width=0.6, alpha=0.7) # Details about the plot\n",
    "ax.bar_label(plot_2, labels=percentage_restaurant_cuisines_plot.values, padding=3, fontsize=8)  # Writes the label of the percentage of restaurants for each top cuisine\n",
    "\n",
    "# Editing the chart\n",
    "plt.title('Percentage of Restaurants for top Cuisines', fontsize=12)\n",
    "plt.xlabel('Cuisines', fontsize=10)\n",
    "plt.ylabel('Percentage', fontsize=10)\n",
    "plt.yticks(range(0, 101, 10))\n",
    "plt.show()"
   ]
  },
  {
   "cell_type": "markdown",
   "id": "e7461b05-7da1-4ebd-abac-65c676607463",
   "metadata": {},
   "source": [
    "We observe that **41%** of restaurants offer **North Indian** Cuisines, **29%** of restaurants offer **Chinese** Cuisines and **21%** of restaurants offer **Fast Food** Cuisines."
   ]
  },
  {
   "cell_type": "markdown",
   "id": "64944bc6-b16d-4560-bfee-691af2fb3858",
   "metadata": {},
   "source": [
    "### Task 2\n",
    "\n",
    "Identify the city with the highest number of restaurants in the dataset.\n",
    "\n",
    "Calculate the average rating for restaurants in each city.\n",
    "\n",
    "Determine the city with the highest average rating."
   ]
  },
  {
   "cell_type": "code",
   "execution_count": 685,
   "id": "fb0c6076-9fdd-44ce-b7d2-1ac55a738e79",
   "metadata": {},
   "outputs": [
    {
     "data": {
      "text/plain": [
       "City\n",
       "New Delhi    5473\n",
       "Gurgaon      1118\n",
       "Noida        1080\n",
       "Faridabad     251\n",
       "Ghaziabad      25\n",
       "Name: count, dtype: int64"
      ]
     },
     "execution_count": 685,
     "metadata": {},
     "output_type": "execute_result"
    }
   ],
   "source": [
    "city = data['City'].value_counts().head() # Counts the number of unique values and outputs the first five rows\n",
    "city"
   ]
  },
  {
   "cell_type": "code",
   "execution_count": 686,
   "id": "ab5d078c-1df8-4695-9536-834ae27fd98a",
   "metadata": {},
   "outputs": [
    {
     "data": {
      "image/png": "[encoded data removed]",
      "text/plain": [
       "<Figure size 500x300 with 1 Axes>"
      ]
     },
     "metadata": {},
     "output_type": "display_data"
    }
   ],
   "source": [
    "fig, ax = plt.subplots(figsize=(5,3)) # Defines the size of the plot\n",
    "plot_3 = ax.barh(city.index, city.values) # Details about the plot\n",
    "ax.bar_label(plot_3, labels=city.values, padding=3, fontsize=8) # Writes the value of the number of restaurants in each city\n",
    "\n",
    "# Editing the chart\n",
    "plt.title('Number of Restaurants in Cities', fontsize=12, pad=10)\n",
    "plt.xticks(range(0, 6001, 1000))\n",
    "plt.xlabel('Number of Restaurants', fontsize=10,labelpad=10)\n",
    "plt.ylabel('Cities', fontsize=10, labelpad=10)\n",
    "\n",
    "plt.show()"
   ]
  },
  {
   "cell_type": "markdown",
   "id": "09ef8f8e-025a-4383-b930-3b1da9662b1e",
   "metadata": {},
   "source": [
    "We observe that the cities with the highest number of restaurants are **New Delhi**, **Gurgaon** and **Noida**"
   ]
  },
  {
   "cell_type": "code",
   "execution_count": 688,
   "id": "72ca371a-fd9e-47d3-ad78-37782a33fd56",
   "metadata": {},
   "outputs": [
    {
     "data": {
      "text/html": [
       "<div>\n",
       "<style scoped>\n",
       "    .dataframe tbody tr th:only-of-type {\n",
       "        vertical-align: middle;\n",
       "    }\n",
       "\n",
       "    .dataframe tbody tr th {\n",
       "        vertical-align: top;\n",
       "    }\n",
       "\n",
       "    .dataframe thead th {\n",
       "        text-align: right;\n",
       "    }\n",
       "</style>\n",
       "<table border=\"1\" class=\"dataframe\">\n",
       "  <thead>\n",
       "    <tr style=\"text-align: right;\">\n",
       "      <th></th>\n",
       "      <th>City</th>\n",
       "      <th>Aggregate_rating</th>\n",
       "    </tr>\n",
       "  </thead>\n",
       "  <tbody>\n",
       "    <tr>\n",
       "      <th>0</th>\n",
       "      <td>Abu Dhabi</td>\n",
       "      <td>4.30</td>\n",
       "    </tr>\n",
       "    <tr>\n",
       "      <th>1</th>\n",
       "      <td>Agra</td>\n",
       "      <td>3.96</td>\n",
       "    </tr>\n",
       "    <tr>\n",
       "      <th>2</th>\n",
       "      <td>Ahmedabad</td>\n",
       "      <td>4.16</td>\n",
       "    </tr>\n",
       "    <tr>\n",
       "      <th>3</th>\n",
       "      <td>Albany</td>\n",
       "      <td>3.56</td>\n",
       "    </tr>\n",
       "    <tr>\n",
       "      <th>4</th>\n",
       "      <td>Allahabad</td>\n",
       "      <td>3.40</td>\n",
       "    </tr>\n",
       "    <tr>\n",
       "      <th>...</th>\n",
       "      <td>...</td>\n",
       "      <td>...</td>\n",
       "    </tr>\n",
       "    <tr>\n",
       "      <th>136</th>\n",
       "      <td>Weirton</td>\n",
       "      <td>3.90</td>\n",
       "    </tr>\n",
       "    <tr>\n",
       "      <th>137</th>\n",
       "      <td>Wellington City</td>\n",
       "      <td>4.25</td>\n",
       "    </tr>\n",
       "    <tr>\n",
       "      <th>138</th>\n",
       "      <td>Winchester Bay</td>\n",
       "      <td>3.20</td>\n",
       "    </tr>\n",
       "    <tr>\n",
       "      <th>139</th>\n",
       "      <td>Yorkton</td>\n",
       "      <td>3.30</td>\n",
       "    </tr>\n",
       "    <tr>\n",
       "      <th>140</th>\n",
       "      <td>��stanbul</td>\n",
       "      <td>4.29</td>\n",
       "    </tr>\n",
       "  </tbody>\n",
       "</table>\n",
       "<p>141 rows × 2 columns</p>\n",
       "</div>"
      ],
      "text/plain": [
       "                City  Aggregate_rating\n",
       "0          Abu Dhabi              4.30\n",
       "1               Agra              3.96\n",
       "2          Ahmedabad              4.16\n",
       "3             Albany              3.56\n",
       "4          Allahabad              3.40\n",
       "..               ...               ...\n",
       "136          Weirton              3.90\n",
       "137  Wellington City              4.25\n",
       "138   Winchester Bay              3.20\n",
       "139          Yorkton              3.30\n",
       "140        ��stanbul              4.29\n",
       "\n",
       "[141 rows x 2 columns]"
      ]
     },
     "execution_count": 688,
     "metadata": {},
     "output_type": "execute_result"
    }
   ],
   "source": [
    "avg_aggr_rating = data.groupby('City')['Aggregate_rating'].mean().round(2).copy() # Calculates the mean of the Aggregate_rating of each City and rounds up to 2 decimal places\n",
    "avg_aggr_rating = avg_aggr_rating.reset_index() # Resets the index such that the Series is converted to a Dataframe\n",
    "avg_aggr_rating"
   ]
  },
  {
   "cell_type": "markdown",
   "id": "264e5555-05a4-4e74-921d-9bbe7eac84ee",
   "metadata": {},
   "source": [
    "Above is the table that calculates the average aggregate rating of each city"
   ]
  },
  {
   "cell_type": "code",
   "execution_count": 690,
   "id": "1384bb4f-cdad-4039-b629-4034ab75e5e4",
   "metadata": {},
   "outputs": [
    {
     "data": {
      "text/plain": [
       "City                Inner City\n",
       "Aggregate_rating           4.9\n",
       "Name: 56, dtype: object"
      ]
     },
     "execution_count": 690,
     "metadata": {},
     "output_type": "execute_result"
    }
   ],
   "source": [
    "avg_aggr_rating.loc[avg_aggr_rating['Aggregate_rating'].idxmax()] # Outputs the row with the highest average aggregate rating"
   ]
  },
  {
   "cell_type": "markdown",
   "id": "b53bd4eb-f7bb-49e7-b163-3fe6c38d1a69",
   "metadata": {},
   "source": [
    "The City with the highest average aggregate rating as shown above is Inner City with a value of 4.9"
   ]
  },
  {
   "cell_type": "markdown",
   "id": "82b585fa-a373-4ccc-8f01-c13553ef851e",
   "metadata": {},
   "source": [
    "### Task 3\n",
    "Create a histogram or bar chart to visualize the distribution of price ranges among the restaurants.\n",
    "\n",
    "Calculate the percentage of restaurants in each price range category."
   ]
  },
  {
   "cell_type": "code",
   "execution_count": 693,
   "id": "1ef2455e-277a-4757-9a38-5d68f4797480",
   "metadata": {},
   "outputs": [
    {
     "data": {
      "image/png": "[encoded data removed]",
      "text/plain": [
       "<Figure size 500x500 with 1 Axes>"
      ]
     },
     "metadata": {},
     "output_type": "display_data"
    }
   ],
   "source": [
    "fig, ax = plt.subplots(figsize=(5,5)) # Defines the size of the plot\n",
    "n, bins, patches = ax.hist(data['Price_range'], bins=range(1, data['Price_range'].max() + 2), color='lightgreen') # Details of the plot\n",
    "\n",
    "# This for loop is used to place the label of the value of number of restaurants on each bar\n",
    "for i in range(len(n)):\n",
    "    plt.text(bins[i] + 0.5, n[i], str(int(n[i])), ha='center', va='bottom', fontsize=10) \n",
    "\n",
    "# Eliminates the top and right border\n",
    "ax.spines['top'].set_visible(False)\n",
    "ax.spines['right'].set_visible(False)\n",
    "\n",
    "# Editing the chart\n",
    "plt.title('Distribution of Price Ranges Among Restaurants', pad=20)\n",
    "plt.xlabel('Price Range', labelpad=10)\n",
    "plt.ylabel('Number of Restaurants', labelpad=10)\n",
    "plt.xticks(range(1, data['Price_range'].max() + 2, 1))\n",
    "plt.yticks(range(0, 5001, 1000))\n",
    "plt.show()\n"
   ]
  },
  {
   "cell_type": "markdown",
   "id": "5d74d733-1d54-46ce-92cf-47983cdb2832",
   "metadata": {},
   "source": [
    "The Chart above visualizes the distribution of Price ranges among restaurants"
   ]
  },
  {
   "cell_type": "code",
   "execution_count": 695,
   "id": "4d15e4b7-c24a-48fc-82c8-b3dae4228507",
   "metadata": {},
   "outputs": [
    {
     "data": {
      "text/html": [
       "<div>\n",
       "<style scoped>\n",
       "    .dataframe tbody tr th:only-of-type {\n",
       "        vertical-align: middle;\n",
       "    }\n",
       "\n",
       "    .dataframe tbody tr th {\n",
       "        vertical-align: top;\n",
       "    }\n",
       "\n",
       "    .dataframe thead th {\n",
       "        text-align: right;\n",
       "    }\n",
       "</style>\n",
       "<table border=\"1\" class=\"dataframe\">\n",
       "  <thead>\n",
       "    <tr style=\"text-align: right;\">\n",
       "      <th></th>\n",
       "      <th>Price_range</th>\n",
       "      <th>Percentage(%)</th>\n",
       "    </tr>\n",
       "  </thead>\n",
       "  <tbody>\n",
       "    <tr>\n",
       "      <th>0</th>\n",
       "      <td>1</td>\n",
       "      <td>46.53</td>\n",
       "    </tr>\n",
       "    <tr>\n",
       "      <th>1</th>\n",
       "      <td>2</td>\n",
       "      <td>32.59</td>\n",
       "    </tr>\n",
       "    <tr>\n",
       "      <th>2</th>\n",
       "      <td>3</td>\n",
       "      <td>14.74</td>\n",
       "    </tr>\n",
       "    <tr>\n",
       "      <th>3</th>\n",
       "      <td>4</td>\n",
       "      <td>6.14</td>\n",
       "    </tr>\n",
       "  </tbody>\n",
       "</table>\n",
       "</div>"
      ],
      "text/plain": [
       "   Price_range  Percentage(%)\n",
       "0            1          46.53\n",
       "1            2          32.59\n",
       "2            3          14.74\n",
       "3            4           6.14"
      ]
     },
     "execution_count": 695,
     "metadata": {},
     "output_type": "execute_result"
    }
   ],
   "source": [
    "percent_price_range = data['Price_range'].value_counts() / len(data) * 100 # Divides the value_count of unique each price range by the length of the entire dataset which is the same as the total number of restaurants and multiplies by 100\n",
    "percent_price_range = percent_price_range.reset_index().round(2) # Rounds up the values to 2 decimal places and resets the index such that the Series is converted into a Dataframe\n",
    "percent_price_range.columns = ['Price_range', 'Percentage(%)'] # Changes the names of the columns of the new dataframe\n",
    "percent_price_range "
   ]
  },
  {
   "cell_type": "markdown",
   "id": "d5b22346-b550-4161-bba1-8c16cfd09d1a",
   "metadata": {},
   "source": [
    "The result shows that **46.53%** of restaurants have a price range of **1**, **32.59%** a price range of **2**, **14.74%** a price range of **3** and **6.14%** a price range of **4**"
   ]
  },
  {
   "cell_type": "markdown",
   "id": "cd566205-e1dd-421c-ba80-455d4e8b6ac2",
   "metadata": {},
   "source": [
    "### Task 4\n",
    "\n",
    "Determine the percentage of restaurants that offer online delivery.\n",
    "\n",
    "Compare the average ratings of restaurants with and without online delivery."
   ]
  },
  {
   "cell_type": "code",
   "execution_count": 698,
   "id": "3a0e87b6-1cd4-40a3-b957-4f40c49bcb25",
   "metadata": {},
   "outputs": [
    {
     "data": {
      "text/html": [
       "<div>\n",
       "<style scoped>\n",
       "    .dataframe tbody tr th:only-of-type {\n",
       "        vertical-align: middle;\n",
       "    }\n",
       "\n",
       "    .dataframe tbody tr th {\n",
       "        vertical-align: top;\n",
       "    }\n",
       "\n",
       "    .dataframe thead th {\n",
       "        text-align: right;\n",
       "    }\n",
       "</style>\n",
       "<table border=\"1\" class=\"dataframe\">\n",
       "  <thead>\n",
       "    <tr style=\"text-align: right;\">\n",
       "      <th></th>\n",
       "      <th>Has_Online_delivery</th>\n",
       "      <th>Percentage(%)</th>\n",
       "    </tr>\n",
       "  </thead>\n",
       "  <tbody>\n",
       "    <tr>\n",
       "      <th>0</th>\n",
       "      <td>No</td>\n",
       "      <td>74.34</td>\n",
       "    </tr>\n",
       "    <tr>\n",
       "      <th>1</th>\n",
       "      <td>Yes</td>\n",
       "      <td>25.66</td>\n",
       "    </tr>\n",
       "  </tbody>\n",
       "</table>\n",
       "</div>"
      ],
      "text/plain": [
       "  Has_Online_delivery  Percentage(%)\n",
       "0                  No          74.34\n",
       "1                 Yes          25.66"
      ]
     },
     "execution_count": 698,
     "metadata": {},
     "output_type": "execute_result"
    }
   ],
   "source": [
    "online_delivery = data['Has_Online_delivery'].value_counts() / len(data) * 100 # Divides the value_count of each unique online delivery option by the length of the entire dataset which is the same total number of restaurants and mulitplies by 100\n",
    "online_delivery = online_delivery.reset_index().round(2) # Rounds up the values to 2 decimal places and resets the index such that the Series is converted to a Dataframe\n",
    "online_delivery.columns = ['Has_Online_delivery', 'Percentage(%)'] # Renames the columns of the new dataframe\n",
    "online_delivery"
   ]
  },
  {
   "cell_type": "markdown",
   "id": "b6132fd8-eff9-4070-90ba-7bf818d02de6",
   "metadata": {},
   "source": [
    "The result shows that **74.34%** of restaurants have online delivery while **25.66%** of restaurants do not."
   ]
  },
  {
   "cell_type": "code",
   "execution_count": 700,
   "id": "78329787-7204-4e25-a9a0-65fbbf738721",
   "metadata": {},
   "outputs": [
    {
     "data": {
      "text/html": [
       "<div>\n",
       "<style scoped>\n",
       "    .dataframe tbody tr th:only-of-type {\n",
       "        vertical-align: middle;\n",
       "    }\n",
       "\n",
       "    .dataframe tbody tr th {\n",
       "        vertical-align: top;\n",
       "    }\n",
       "\n",
       "    .dataframe thead th {\n",
       "        text-align: right;\n",
       "    }\n",
       "</style>\n",
       "<table border=\"1\" class=\"dataframe\">\n",
       "  <thead>\n",
       "    <tr style=\"text-align: right;\">\n",
       "      <th></th>\n",
       "      <th>Has_Online_delivery</th>\n",
       "      <th>Average_Aggregate_rating</th>\n",
       "    </tr>\n",
       "  </thead>\n",
       "  <tbody>\n",
       "    <tr>\n",
       "      <th>0</th>\n",
       "      <td>No</td>\n",
       "      <td>2.47</td>\n",
       "    </tr>\n",
       "    <tr>\n",
       "      <th>1</th>\n",
       "      <td>Yes</td>\n",
       "      <td>3.25</td>\n",
       "    </tr>\n",
       "  </tbody>\n",
       "</table>\n",
       "</div>"
      ],
      "text/plain": [
       "  Has_Online_delivery  Average_Aggregate_rating\n",
       "0                  No                      2.47\n",
       "1                 Yes                      3.25"
      ]
     },
     "execution_count": 700,
     "metadata": {},
     "output_type": "execute_result"
    }
   ],
   "source": [
    "delivery_aggr_rating = data.groupby('Has_Online_delivery')['Aggregate_rating'].mean().round(2) # Calculates the mean of the aggregate ratings of each unique online delivery option\n",
    "delivery_aggr_rating = delivery_aggr_rating.reset_index() # Resets the index such that the Series is converted to a Dataframe\n",
    "delivery_aggr_rating.columns = ['Has_Online_delivery', 'Average_Aggregate_rating'] # Renames the column of the new dataframe\n",
    "delivery_aggr_rating"
   ]
  },
  {
   "cell_type": "code",
   "execution_count": 701,
   "id": "91302a3f-b411-4874-9ae1-c91d24ac4277",
   "metadata": {},
   "outputs": [
    {
     "data": {
      "image/png": "[encoded data removed]",
      "text/plain": [
       "<Figure size 400x200 with 1 Axes>"
      ]
     },
     "metadata": {},
     "output_type": "display_data"
    }
   ],
   "source": [
    "fig, ax = plt.subplots(figsize = (4,2)) # Defines the size of the plot\n",
    "plot_5 = ax.bar(delivery_aggr_rating['Has_Online_delivery'], delivery_aggr_rating['Average_Aggregate_rating'], width = 0.6, color='red', alpha=0.8) # Details of the plot\n",
    "ax.bar_label(plot_5, labels=delivery_aggr_rating['Average_Aggregate_rating']) # Writes the label of the values of the average aggregate rating of each online delivery option \n",
    "\n",
    "# Eliminates the top and right border of the plot\n",
    "ax.spines['top'].set_visible(False)\n",
    "ax.spines['right'].set_visible(False)\n",
    "\n",
    "# Editing the chart\n",
    "plt.title('Average Aggregate Ratings of Restaurants With and Without Online Delivery', pad=20)\n",
    "plt.xlabel('Online Delivery Option', labelpad=15)\n",
    "plt.ylabel('Average Aggregate Rating', labelpad=15)\n",
    "\n",
    "plt.show()"
   ]
  },
  {
   "cell_type": "markdown",
   "id": "56654d70-972a-458b-a191-3ca3eda75b2c",
   "metadata": {},
   "source": [
    "The result show that restaurants with the option of online delivery have an **average aggregate rating** of **3.25** and restaurants without the option of online delivery have an **average aggregate rating** of **2.47**"
   ]
  },
  {
   "cell_type": "markdown",
   "id": "f2198536-8815-408b-90d3-6baf005b6165",
   "metadata": {},
   "source": [
    "## LEVEL 2"
   ]
  },
  {
   "cell_type": "markdown",
   "id": "2d6a73b0-2ae8-4413-ba4a-0a34cb04c99e",
   "metadata": {},
   "source": [
    "### Task 1\n",
    "\n",
    "Analyze the distribution of aggregate ratings and determine the most common rating range.\n",
    "\n",
    "Calculate the average number of votes received by restaurants.\n"
   ]
  },
  {
   "cell_type": "code",
   "execution_count": 705,
   "id": "e931adf3-4e82-4764-9f12-117ec9626ac6",
   "metadata": {},
   "outputs": [
    {
     "data": {
      "text/plain": [
       "Aggregate_rating\n",
       "3-4    4590\n",
       "0-1    2148\n",
       "2-3    1430\n",
       "4-5    1380\n",
       "1-2       3\n",
       "Name: count, dtype: int64"
      ]
     },
     "execution_count": 705,
     "metadata": {},
     "output_type": "execute_result"
    }
   ],
   "source": [
    "rating_bins = [0, 1, 2, 3, 4, 5]  \n",
    "rating_labels = ['0-1', '1-2', '2-3', '3-4', '4-5']\n",
    "\n",
    "rating_range = pd.cut(data['Aggregate_rating'], bins = rating_bins, labels = rating_labels, right=False) \n",
    "rating_range = rating_range.value_counts()\n",
    "rating_range"
   ]
  },
  {
   "cell_type": "code",
   "execution_count": 706,
   "id": "6b7cf768-fdd1-4bef-a6c3-11064b187c5c",
   "metadata": {},
   "outputs": [
    {
     "data": {
      "image/png": "[encoded data removed]",
      "text/plain": [
       "<Figure size 500x400 with 1 Axes>"
      ]
     },
     "metadata": {},
     "output_type": "display_data"
    }
   ],
   "source": [
    "fig, ax = plt.subplots(figsize=(5,4)) # Defines the plot\n",
    "plot_6 = ax.bar(rating_range.index, rating_range.values, color='orange', width=0.7) # Details of the plot\n",
    "ax.bar_label(plot_6, labels=rating_range.values) # Writes the label of the values of the number of restaurants on each bar\n",
    "\n",
    "# Eliminates the top and right border\n",
    "ax.spines['top'].set_visible(False)\n",
    "ax.spines['right'].set_visible(False)\n",
    "\n",
    "# Editing the chart\n",
    "plt.title(\"Most Common Rating Ranges\", pad=20)\n",
    "plt.xlabel(\"Rating Ranges\", labelpad=15)\n",
    "plt.ylabel(\"Number of Restaurants\", labelpad=15)\n",
    "plt.xticks(rotation=0)\n",
    "plt.yticks(range(0,5001,1000))\n",
    "plt.show()"
   ]
  },
  {
   "cell_type": "markdown",
   "id": "d0a31671-e044-4b24-94c0-85a0251511aa",
   "metadata": {},
   "source": [
    "The chart above shows the distribution of aggregating among restaurants. The most common rating range is the range of rating from **3-4**"
   ]
  },
  {
   "cell_type": "markdown",
   "id": "29633225-5e0d-4af0-b220-ce5b7faff21c",
   "metadata": {},
   "source": [
    "### Task 2\n",
    "\n",
    "Identify the most common combinations of cuisines in the dataset.\n",
    "\n",
    "Determine if certain cuisine combinations tend to have higher ratings."
   ]
  },
  {
   "cell_type": "code",
   "execution_count": 709,
   "id": "5fd02e65-d3de-427d-a01c-3de727c5d8ab",
   "metadata": {},
   "outputs": [
    {
     "data": {
      "text/html": [
       "<div>\n",
       "<style scoped>\n",
       "    .dataframe tbody tr th:only-of-type {\n",
       "        vertical-align: middle;\n",
       "    }\n",
       "\n",
       "    .dataframe tbody tr th {\n",
       "        vertical-align: top;\n",
       "    }\n",
       "\n",
       "    .dataframe thead th {\n",
       "        text-align: right;\n",
       "    }\n",
       "</style>\n",
       "<table border=\"1\" class=\"dataframe\">\n",
       "  <thead>\n",
       "    <tr style=\"text-align: right;\">\n",
       "      <th></th>\n",
       "      <th>Cuisines</th>\n",
       "      <th>count</th>\n",
       "    </tr>\n",
       "  </thead>\n",
       "  <tbody>\n",
       "    <tr>\n",
       "      <th>0</th>\n",
       "      <td>North Indian, Chinese</td>\n",
       "      <td>511</td>\n",
       "    </tr>\n",
       "    <tr>\n",
       "      <th>1</th>\n",
       "      <td>North Indian, Mughlai</td>\n",
       "      <td>334</td>\n",
       "    </tr>\n",
       "    <tr>\n",
       "      <th>2</th>\n",
       "      <td>North Indian, Mughlai, Chinese</td>\n",
       "      <td>197</td>\n",
       "    </tr>\n",
       "    <tr>\n",
       "      <th>3</th>\n",
       "      <td>Bakery, Desserts</td>\n",
       "      <td>170</td>\n",
       "    </tr>\n",
       "    <tr>\n",
       "      <th>4</th>\n",
       "      <td>Pizza, Fast Food</td>\n",
       "      <td>131</td>\n",
       "    </tr>\n",
       "    <tr>\n",
       "      <th>...</th>\n",
       "      <td>...</td>\n",
       "      <td>...</td>\n",
       "    </tr>\n",
       "    <tr>\n",
       "      <th>1726</th>\n",
       "      <td>South Indian, Desserts, Beverages</td>\n",
       "      <td>1</td>\n",
       "    </tr>\n",
       "    <tr>\n",
       "      <th>1727</th>\n",
       "      <td>Healthy Food, North Indian, Italian, Salad</td>\n",
       "      <td>1</td>\n",
       "    </tr>\n",
       "    <tr>\n",
       "      <th>1728</th>\n",
       "      <td>Bengali, Fast Food</td>\n",
       "      <td>1</td>\n",
       "    </tr>\n",
       "    <tr>\n",
       "      <th>1729</th>\n",
       "      <td>North Indian, Rajasthani, Asian</td>\n",
       "      <td>1</td>\n",
       "    </tr>\n",
       "    <tr>\n",
       "      <th>1730</th>\n",
       "      <td>Italian, World Cuisine</td>\n",
       "      <td>1</td>\n",
       "    </tr>\n",
       "  </tbody>\n",
       "</table>\n",
       "<p>1731 rows × 2 columns</p>\n",
       "</div>"
      ],
      "text/plain": [
       "                                        Cuisines  count\n",
       "0                          North Indian, Chinese    511\n",
       "1                          North Indian, Mughlai    334\n",
       "2                 North Indian, Mughlai, Chinese    197\n",
       "3                               Bakery, Desserts    170\n",
       "4                               Pizza, Fast Food    131\n",
       "...                                          ...    ...\n",
       "1726           South Indian, Desserts, Beverages      1\n",
       "1727  Healthy Food, North Indian, Italian, Salad      1\n",
       "1728                          Bengali, Fast Food      1\n",
       "1729             North Indian, Rajasthani, Asian      1\n",
       "1730                      Italian, World Cuisine      1\n",
       "\n",
       "[1731 rows x 2 columns]"
      ]
     },
     "execution_count": 709,
     "metadata": {},
     "output_type": "execute_result"
    }
   ],
   "source": [
    "cuisines = data['Cuisines'].dropna() # Eliminates all null values in the column\n",
    "df_cuisines = cuisines[cuisines.str.split(',').str.len() > 1].value_counts().reset_index() # Splits the Cuisines columns at the point of the ',', counts the length and then outputs only the Cuisines with length greater than 1\n",
    "df_cuisines"
   ]
  },
  {
   "cell_type": "markdown",
   "id": "a4e9da80-dd1c-47a8-960a-13a090e40bd9",
   "metadata": {},
   "source": [
    "The table above shows that the most common combination of cuisines are **North Indian** and **Chinese** cuisines"
   ]
  },
  {
   "cell_type": "markdown",
   "id": "5e72486d-9058-4196-bbf5-18b287f96bfc",
   "metadata": {},
   "source": [
    "### Task 3\n",
    "\n",
    "Plot the locations of restaurants on a map using longitude and latitude coordinates.\n",
    "\n",
    "Identify any patterns or clusters of restaurants in specific areas."
   ]
  },
  {
   "cell_type": "markdown",
   "id": "8bd0d585-bb71-4999-9188-04d1e6386f84",
   "metadata": {},
   "source": [
    "### Task 4\n",
    "\n",
    "Identify if there are any restaurant chains present in the dataset.\n",
    "\n",
    "Analyze the ratings and popularity of different restaurant chains."
   ]
  },
  {
   "cell_type": "code",
   "execution_count": 713,
   "id": "17c5b130-f642-421a-ac5f-d8aa0b3a25a5",
   "metadata": {
    "scrolled": true
   },
   "outputs": [
    {
     "data": {
      "text/plain": [
       "Restaurant_Name\n",
       "Cafe Coffee Day       83\n",
       "Domino's Pizza        79\n",
       "Subway                63\n",
       "Green Chick Chop      51\n",
       "McDonald's            48\n",
       "                      ..\n",
       "Town Hall              2\n",
       "Halki Aanch            2\n",
       "Snack Junction         2\n",
       "Delhi Biryani Hut      2\n",
       "Beliram Degchiwala     2\n",
       "Name: count, Length: 734, dtype: int64"
      ]
     },
     "execution_count": 713,
     "metadata": {},
     "output_type": "execute_result"
    }
   ],
   "source": [
    "chains = data['Restaurant_Name'].value_counts() # Stores the value_count of each unique restaurant name\n",
    "restaurant_chains = chains[chains > 1] # Stores the value_count of each unique restaurant name that appears more than once\n",
    "restaurant_chains"
   ]
  },
  {
   "cell_type": "markdown",
   "id": "c4342b33-1043-480e-95b3-0084d2f52ad2",
   "metadata": {},
   "source": [
    "The result shows that there are indeed restaurant chains in the dataset.z\n"
   ]
  },
  {
   "cell_type": "code",
   "execution_count": 715,
   "id": "6ccac27c-c984-4475-abc9-bdf9320b3c26",
   "metadata": {},
   "outputs": [
    {
     "data": {
      "text/plain": [
       "Restaurant_Name\n",
       "10 Downing Street       4.000000\n",
       "221 B Baker Street      3.366667\n",
       "34 Parkstreet Lane      3.050000\n",
       "34, Chowringhee Lane    2.791667\n",
       "4700BC Popcorn          3.500000\n",
       "                          ...   \n",
       "Zaika                   2.850000\n",
       "Zaika Kathi Rolls       1.500000\n",
       "Zizo                    3.866667\n",
       "Zooby's Kitchen         3.150000\n",
       "bu��no                  3.750000\n",
       "Name: Aggregate_rating, Length: 734, dtype: float64"
      ]
     },
     "execution_count": 715,
     "metadata": {},
     "output_type": "execute_result"
    }
   ],
   "source": [
    "chains_avg_aggr_rating = data[data['Restaurant_Name'].isin(restaurant_chains.index)].groupby('Restaurant_Name')['Aggregate_rating'].mean() # Calculates the mean of the aggregate rating of unique restaurant names which appear more than once\n",
    "chains_avg_aggr_rating"
   ]
  },
  {
   "cell_type": "code",
   "execution_count": 716,
   "id": "08b951df-b404-4252-9730-22a6f05ffa1f",
   "metadata": {},
   "outputs": [
    {
     "data": {
      "text/plain": [
       "Restaurant_Name\n",
       "10 Downing Street        670\n",
       "221 B Baker Street       215\n",
       "34 Parkstreet Lane        31\n",
       "34, Chowringhee Lane     777\n",
       "4700BC Popcorn           176\n",
       "                        ... \n",
       "Zaika                    245\n",
       "Zaika Kathi Rolls         16\n",
       "Zizo                    1371\n",
       "Zooby's Kitchen           52\n",
       "bu��no                   117\n",
       "Name: Votes, Length: 734, dtype: int64"
      ]
     },
     "execution_count": 716,
     "metadata": {},
     "output_type": "execute_result"
    }
   ],
   "source": [
    "chains_total_votes = data[data['Restaurant_Name'].isin(restaurant_chains.index)].groupby('Restaurant_Name')['Votes'].sum() # Calculates the total number votes of each unique restaurant name which appear more than once \n",
    "chains_total_votes\n"
   ]
  },
  {
   "cell_type": "code",
   "execution_count": 717,
   "id": "1b9f2744-34fc-4726-bedc-8d9c5ca76297",
   "metadata": {},
   "outputs": [
    {
     "data": {
      "text/html": [
       "<div>\n",
       "<style scoped>\n",
       "    .dataframe tbody tr th:only-of-type {\n",
       "        vertical-align: middle;\n",
       "    }\n",
       "\n",
       "    .dataframe tbody tr th {\n",
       "        vertical-align: top;\n",
       "    }\n",
       "\n",
       "    .dataframe thead th {\n",
       "        text-align: right;\n",
       "    }\n",
       "</style>\n",
       "<table border=\"1\" class=\"dataframe\">\n",
       "  <thead>\n",
       "    <tr style=\"text-align: right;\">\n",
       "      <th></th>\n",
       "      <th>Restaurant_Name</th>\n",
       "      <th>Average_Rating</th>\n",
       "      <th>Total_Votes</th>\n",
       "    </tr>\n",
       "  </thead>\n",
       "  <tbody>\n",
       "    <tr>\n",
       "      <th>0</th>\n",
       "      <td>10 Downing Street</td>\n",
       "      <td>4.000000</td>\n",
       "      <td>670</td>\n",
       "    </tr>\n",
       "    <tr>\n",
       "      <th>1</th>\n",
       "      <td>221 B Baker Street</td>\n",
       "      <td>3.366667</td>\n",
       "      <td>215</td>\n",
       "    </tr>\n",
       "    <tr>\n",
       "      <th>2</th>\n",
       "      <td>34 Parkstreet Lane</td>\n",
       "      <td>3.050000</td>\n",
       "      <td>31</td>\n",
       "    </tr>\n",
       "    <tr>\n",
       "      <th>3</th>\n",
       "      <td>34, Chowringhee Lane</td>\n",
       "      <td>2.791667</td>\n",
       "      <td>777</td>\n",
       "    </tr>\n",
       "    <tr>\n",
       "      <th>4</th>\n",
       "      <td>4700BC Popcorn</td>\n",
       "      <td>3.500000</td>\n",
       "      <td>176</td>\n",
       "    </tr>\n",
       "    <tr>\n",
       "      <th>...</th>\n",
       "      <td>...</td>\n",
       "      <td>...</td>\n",
       "      <td>...</td>\n",
       "    </tr>\n",
       "    <tr>\n",
       "      <th>729</th>\n",
       "      <td>Zaika</td>\n",
       "      <td>2.850000</td>\n",
       "      <td>245</td>\n",
       "    </tr>\n",
       "    <tr>\n",
       "      <th>730</th>\n",
       "      <td>Zaika Kathi Rolls</td>\n",
       "      <td>1.500000</td>\n",
       "      <td>16</td>\n",
       "    </tr>\n",
       "    <tr>\n",
       "      <th>731</th>\n",
       "      <td>Zizo</td>\n",
       "      <td>3.866667</td>\n",
       "      <td>1371</td>\n",
       "    </tr>\n",
       "    <tr>\n",
       "      <th>732</th>\n",
       "      <td>Zooby's Kitchen</td>\n",
       "      <td>3.150000</td>\n",
       "      <td>52</td>\n",
       "    </tr>\n",
       "    <tr>\n",
       "      <th>733</th>\n",
       "      <td>bu��no</td>\n",
       "      <td>3.750000</td>\n",
       "      <td>117</td>\n",
       "    </tr>\n",
       "  </tbody>\n",
       "</table>\n",
       "<p>734 rows × 3 columns</p>\n",
       "</div>"
      ],
      "text/plain": [
       "          Restaurant_Name  Average_Rating  Total_Votes\n",
       "0       10 Downing Street        4.000000          670\n",
       "1      221 B Baker Street        3.366667          215\n",
       "2      34 Parkstreet Lane        3.050000           31\n",
       "3    34, Chowringhee Lane        2.791667          777\n",
       "4          4700BC Popcorn        3.500000          176\n",
       "..                    ...             ...          ...\n",
       "729                 Zaika        2.850000          245\n",
       "730     Zaika Kathi Rolls        1.500000           16\n",
       "731                  Zizo        3.866667         1371\n",
       "732       Zooby's Kitchen        3.150000           52\n",
       "733                bu��no        3.750000          117\n",
       "\n",
       "[734 rows x 3 columns]"
      ]
     },
     "execution_count": 717,
     "metadata": {},
     "output_type": "execute_result"
    }
   ],
   "source": [
    "chain_data = pd.DataFrame({\n",
    "    'Average_Rating': chains_avg_aggr_rating,\n",
    "    'Total_Votes': chains_total_votes\n",
    "}) # Combines two Series to form a Dataframe\n",
    "chain_data = chain_data.reset_index() # Resets the index of the new Dataframe such that the index is now different\n",
    "chain_data"
   ]
  },
  {
   "cell_type": "markdown",
   "id": "44a05bdc-6b38-428c-909a-8376831ea267",
   "metadata": {},
   "source": [
    "The table above shows the analysis of restaurant chains, the average aggregate rating of each and their total votes-expressing their popularity."
   ]
  }
 ],
 "metadata": {
  "kernelspec": {
   "display_name": "Python 3 (ipykernel)",
   "language": "python",
   "name": "python3"
  },
  "language_info": {
   "codemirror_mode": {
    "name": "ipython",
    "version": 3
   },
   "file_extension": ".py",
   "mimetype": "text/x-python",
   "name": "python",
   "nbconvert_exporter": "python",
   "pygments_lexer": "ipython3",
   "version": "3.12.7"
  }
 },
 "nbformat": 4,
 "nbformat_minor": 5
}
